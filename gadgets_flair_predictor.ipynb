{
 "cells": [
  {
   "cell_type": "code",
   "execution_count": 1,
   "metadata": {},
   "outputs": [],
   "source": [
    "import requests\n",
    "import praw\n",
    "import datetime\n",
    "from dateutil.relativedelta import relativedelta\n",
    "import concurrent.futures\n",
    "import pandas as pd"
   ]
  },
  {
   "cell_type": "markdown",
   "metadata": {},
   "source": [
    "## Data Collection"
   ]
  },
  {
   "cell_type": "code",
   "execution_count": 2,
   "metadata": {},
   "outputs": [],
   "source": [
    "reddit = praw.Reddit(\"bot1\")"
   ]
  },
  {
   "cell_type": "code",
   "execution_count": 13,
   "metadata": {},
   "outputs": [],
   "source": [
    "def get_post_data_for_range(start_date, end_date, subreddit):\n",
    "    query = f'https://api.pushshift.io/reddit/search/submission/?subreddit={subreddit}&size=500&before={end_date}&after={start_date}'\n",
    "    post_data = requests.get(query)\n",
    "    return post_data.json()['data']\n",
    "    \n",
    "def filter_submission(total_submission_dict, post):\n",
    "    submission = reddit.submission(id=post['id'])\n",
    "    if (submission.link_flair_text is not None):\n",
    "        total_submission_dict['date'].append(post['created_utc'])\n",
    "        total_submission_dict['id'].append(post['id'])\n",
    "        total_submission_dict['flair'].append(submission.link_flair_text)\n",
    "        total_submission_dict['title'].append(post['title'])\n",
    "        total_submission_dict['selftext'].append(post['selftext'])\n",
    "\n",
    "def get_post_data(start_date, end_date, subreddit):\n",
    "    total_submission_dict = {\n",
    "        'date': [], \n",
    "        'id': [],\n",
    "        'flair': [],\n",
    "        'title': [],\n",
    "        'selftext': []\n",
    "    }\n",
    "    \n",
    "    post_data = get_post_data_for_range(start_date, end_date, subreddit)\n",
    "    for x in range (5):\n",
    "        for submission in post_data:\n",
    "            filter_submission(total_submission_dict, submission)\n",
    "\n",
    "        start_date = post_data[-1]['created_utc']\n",
    "        post_data = get_post_data_for_range(start_date, end_date, subreddit)\n",
    "    return total_submission_dict\n",
    "    "
   ]
  },
  {
   "cell_type": "markdown",
   "metadata": {},
   "source": [
    "# Gadgets Post Classification"
   ]
  },
  {
   "cell_type": "code",
   "execution_count": 41,
   "metadata": {},
   "outputs": [],
   "source": [
    "start_date = ((datetime.datetime.utcnow() - relativedelta(years=1)))\n",
    "dates = [int((start_date + relativedelta(months=x)).timestamp()) for x in range(12)]\n",
    "with concurrent.futures.ThreadPoolExecutor() as executor:\n",
    "    threads= [executor.submit(get_post_data, dates[month], dates[month+1], 'gadgets') for month in range(0,len(dates),2)]\n",
    "    post_data_per_month = [thread.result() for thread in threads]"
   ]
  },
  {
   "cell_type": "code",
   "execution_count": null,
   "metadata": {},
   "outputs": [],
   "source": [
    "start_date = ((datetime.datetime.utcnow() - relativedelta(days=15))).timestamp()\n",
    "end_date = datetime.datetime.utcnow().timestamp()\n",
    "last_15_days_data = get_post_data(1604881881, 1606100329, 'gadgets')"
   ]
  },
  {
   "cell_type": "code",
   "execution_count": null,
   "metadata": {},
   "outputs": [],
   "source": [
    "df = pd.DataFrame(last_15_days_data)\n",
    "df['flair'].value_counts()"
   ]
  },
  {
   "cell_type": "code",
   "execution_count": 298,
   "metadata": {
    "scrolled": true
   },
   "outputs": [
    {
     "data": {
      "text/plain": [
       "VR / AR                 97\n",
       "Phones                  30\n",
       "Desktops / Laptops      23\n",
       "Computer peripherals    14\n",
       "Medical                 11\n",
       "Transportation          11\n",
       "Wearables               11\n",
       "Home                    10\n",
       "Gaming                  10\n",
       "Discussion               9\n",
       "Music                    7\n",
       "Watches                  6\n",
       "Rule 2                   5\n",
       "TV / Projectors          5\n",
       "Cameras                  4\n",
       "Misc                     4\n",
       "Homemade                 3\n",
       "Not A Gadget             2\n",
       "Phone Accessories        2\n",
       "locked                   1\n",
       "Rule 5                   1\n",
       "*SMS-based               1\n",
       "Drones / UAVs            1\n",
       "Blogspam                 1\n",
       "Tablets                  1\n",
       "Name: flair, dtype: int64"
      ]
     },
     "execution_count": 298,
     "metadata": {},
     "output_type": "execute_result"
    }
   ],
   "source": [
    "df = pd.read_csv('gadges_posts.csv')\n",
    "df.drop(['selftext'], axis=1, inplace=True)\n",
    "df.dropna(inplace=True)\n",
    "df['flair'].value_counts()"
   ]
  },
  {
   "cell_type": "markdown",
   "metadata": {},
   "source": [
    "## Data Cleansing"
   ]
  },
  {
   "cell_type": "code",
   "execution_count": 299,
   "metadata": {},
   "outputs": [
    {
     "name": "stderr",
     "output_type": "stream",
     "text": [
      "[nltk_data] Downloading package words to C:\\Users\\Aman\n",
      "[nltk_data]     Riat\\AppData\\Roaming\\nltk_data...\n",
      "[nltk_data]   Package words is already up-to-date!\n"
     ]
    },
    {
     "data": {
      "text/html": [
       "<div>\n",
       "<style scoped>\n",
       "    .dataframe tbody tr th:only-of-type {\n",
       "        vertical-align: middle;\n",
       "    }\n",
       "\n",
       "    .dataframe tbody tr th {\n",
       "        vertical-align: top;\n",
       "    }\n",
       "\n",
       "    .dataframe thead th {\n",
       "        text-align: right;\n",
       "    }\n",
       "</style>\n",
       "<table border=\"1\" class=\"dataframe\">\n",
       "  <thead>\n",
       "    <tr style=\"text-align: right;\">\n",
       "      <th></th>\n",
       "      <th>date</th>\n",
       "      <th>id</th>\n",
       "      <th>flair</th>\n",
       "      <th>title</th>\n",
       "    </tr>\n",
       "  </thead>\n",
       "  <tbody>\n",
       "    <tr>\n",
       "      <th>0</th>\n",
       "      <td>1604891928</td>\n",
       "      <td>jqpvp6</td>\n",
       "      <td>Not A Gadget</td>\n",
       "      <td>Maintenance Robot Walks on a Wind Turbine's Bl...</td>\n",
       "    </tr>\n",
       "    <tr>\n",
       "      <th>1</th>\n",
       "      <td>1604896733</td>\n",
       "      <td>jqr3bg</td>\n",
       "      <td>Rule 2</td>\n",
       "      <td>Back here with, affordable smart watches in th...</td>\n",
       "    </tr>\n",
       "    <tr>\n",
       "      <th>2</th>\n",
       "      <td>1604897235</td>\n",
       "      <td>jqr7io</td>\n",
       "      <td>Music</td>\n",
       "      <td>iFi NEO iDSD: New HiRes Professional Headphone...</td>\n",
       "    </tr>\n",
       "    <tr>\n",
       "      <th>3</th>\n",
       "      <td>1604899565</td>\n",
       "      <td>jqrr2a</td>\n",
       "      <td>Phones</td>\n",
       "      <td>moto G8 power lite launched in India | Specifi...</td>\n",
       "    </tr>\n",
       "    <tr>\n",
       "      <th>4</th>\n",
       "      <td>1604900214</td>\n",
       "      <td>jqrwa4</td>\n",
       "      <td>Phones</td>\n",
       "      <td>moto G8 power lite launched in India | Specifi...</td>\n",
       "    </tr>\n",
       "  </tbody>\n",
       "</table>\n",
       "</div>"
      ],
      "text/plain": [
       "         date      id         flair  \\\n",
       "0  1604891928  jqpvp6  Not A Gadget   \n",
       "1  1604896733  jqr3bg        Rule 2   \n",
       "2  1604897235  jqr7io         Music   \n",
       "3  1604899565  jqrr2a        Phones   \n",
       "4  1604900214  jqrwa4        Phones   \n",
       "\n",
       "                                               title  \n",
       "0  Maintenance Robot Walks on a Wind Turbine's Bl...  \n",
       "1  Back here with, affordable smart watches in th...  \n",
       "2  iFi NEO iDSD: New HiRes Professional Headphone...  \n",
       "3  moto G8 power lite launched in India | Specifi...  \n",
       "4  moto G8 power lite launched in India | Specifi...  "
      ]
     },
     "execution_count": 299,
     "metadata": {},
     "output_type": "execute_result"
    }
   ],
   "source": [
    "from nltk.tokenize import RegexpTokenizer\n",
    "from nltk import WordNetLemmatizer\n",
    "from nltk.stem import PorterStemmer\n",
    "import regex as re\n",
    "from nltk.sentiment.vader import SentimentIntensityAnalyzer\n",
    "import nltk\n",
    "nltk.download('words')\n",
    "from nltk.corpus import words\n",
    "\n",
    "Word = list(set(words.words()))\n",
    "\n",
    "df = df[df['title'].str.contains('|'.join(Word))]\n",
    "\n",
    "df.head()"
   ]
  },
  {
   "cell_type": "code",
   "execution_count": 300,
   "metadata": {},
   "outputs": [],
   "source": [
    "targets= list(df['flair'].value_counts()[0:5].index)\n",
    "target_df = df[df['flair'].isin(targets)]\n",
    "non_target_df = df[~df['flair'].isin(targets)]"
   ]
  },
  {
   "cell_type": "code",
   "execution_count": 303,
   "metadata": {},
   "outputs": [
    {
     "data": {
      "text/plain": [
       "array([0, 1, 2, 3, 4], dtype=int64)"
      ]
     },
     "execution_count": 303,
     "metadata": {},
     "output_type": "execute_result"
    }
   ],
   "source": [
    "#Flair with value 5 means other\n",
    "from sklearn.preprocessing import LabelEncoder  \n",
    "\n",
    "le = LabelEncoder()\n",
    "target_df.loc[:,'flair'] = le.fit_transform(target_df['flair'])\n",
    "non_target_df.loc[:, 'flair'] = 5\n",
    "le.inverse_transform([0,1,2,3,4])"
   ]
  },
  {
   "cell_type": "code",
   "execution_count": 304,
   "metadata": {},
   "outputs": [
    {
     "name": "stdout",
     "output_type": "stream",
     "text": [
      "173 91\n"
     ]
    }
   ],
   "source": [
    "#Comparing data split\n",
    "print(len(target_df), len(non_target_df))"
   ]
  },
  {
   "cell_type": "code",
   "execution_count": 305,
   "metadata": {},
   "outputs": [],
   "source": [
    "df = pd.concat([target_df, non_target_df], axis=0, join='outer', ignore_index=False, keys=None,\n",
    "          levels=None, names=None, verify_integrity=False, copy=True)"
   ]
  },
  {
   "cell_type": "code",
   "execution_count": 306,
   "metadata": {},
   "outputs": [],
   "source": [
    "#Tokenize the titles\n",
    "def tokenize(x):\n",
    "    if not x:\n",
    "        x = ''\n",
    "    tokenizer = RegexpTokenizer(r'\\w+')\n",
    "    return tokenizer.tokenize(x)\n",
    "df.loc[:,'tokens'] = target_df['title'].map(tokenize)"
   ]
  },
  {
   "cell_type": "code",
   "execution_count": 307,
   "metadata": {},
   "outputs": [],
   "source": [
    "df.dropna(inplace=True)"
   ]
  },
  {
   "cell_type": "code",
   "execution_count": 308,
   "metadata": {},
   "outputs": [
    {
     "name": "stderr",
     "output_type": "stream",
     "text": [
      "[nltk_data] Downloading package wordnet to C:\\Users\\Aman\n",
      "[nltk_data]     Riat\\AppData\\Roaming\\nltk_data...\n",
      "[nltk_data]   Package wordnet is already up-to-date!\n"
     ]
    }
   ],
   "source": [
    "#Lemming and stemming to reduce similar based words to a common word\n",
    "nltk.download('wordnet')\n",
    "def stemmer(x):\n",
    "    stemmer = PorterStemmer()\n",
    "    return ' '.join([stemmer.stem(word) for word in x])\n",
    " \n",
    "def lemmatize(x):\n",
    "    lemmatizer = WordNetLemmatizer()\n",
    "    return ' '.join([lemmatizer.lemmatize(word) for word in x])\n",
    "df['lemma'] = df['tokens'].map(lemmatize)\n",
    "df['stems'] = df['tokens'].map(stemmer)"
   ]
  },
  {
   "cell_type": "markdown",
   "metadata": {},
   "source": [
    "## Model Training"
   ]
  },
  {
   "cell_type": "code",
   "execution_count": 309,
   "metadata": {},
   "outputs": [],
   "source": [
    "from sklearn.feature_extraction.text import CountVectorizer, TfidfVectorizer\n",
    "from sklearn.naive_bayes import MultinomialNB\n",
    "from sklearn.model_selection import train_test_split, cross_val_score, GridSearchCV\n",
    "from sklearn.pipeline import Pipeline\n",
    "from sklearn.linear_model import LogisticRegression\n",
    "from sklearn.neighbors import KNeighborsClassifier\n",
    "from sklearn.metrics import confusion_matrix\n",
    "from sklearn.metrics import accuracy_score\n",
    "from sklearn import metrics"
   ]
  },
  {
   "cell_type": "code",
   "execution_count": 310,
   "metadata": {},
   "outputs": [],
   "source": [
    "X = df['lemma']\n",
    "y = df['flair']\n",
    "X_train, X_test, y_train, y_test = train_test_split(X, y, random_state = 13)"
   ]
  },
  {
   "cell_type": "code",
   "execution_count": 311,
   "metadata": {},
   "outputs": [],
   "source": [
    "mnb_pipe = Pipeline(steps = [('tf', TfidfVectorizer()), ('mnb', MultinomialNB())])"
   ]
  },
  {
   "cell_type": "code",
   "execution_count": 312,
   "metadata": {},
   "outputs": [],
   "source": [
    "param_grid = {\n",
    " 'tf__max_features' : [1000, 2000, 3000],\n",
    " 'tf__stop_words' : ['english', None],\n",
    " 'tf__ngram_range' : [(1,1),(1,2)],\n",
    " 'tf__use_idf' : [True, False],\n",
    " 'mnb__alpha' : [0.1, 0.5, 1]\n",
    "}"
   ]
  },
  {
   "cell_type": "code",
   "execution_count": 313,
   "metadata": {},
   "outputs": [
    {
     "data": {
      "text/plain": [
       "GridSearchCV(cv=5,\n",
       "             estimator=Pipeline(steps=[('tf', TfidfVectorizer()),\n",
       "                                       ('mnb', MultinomialNB())]),\n",
       "             n_jobs=-1,\n",
       "             param_grid={'mnb__alpha': [0.1, 0.5, 1],\n",
       "                         'tf__max_features': [1000, 2000, 3000],\n",
       "                         'tf__ngram_range': [(1, 1), (1, 2)],\n",
       "                         'tf__stop_words': ['english', None],\n",
       "                         'tf__use_idf': [True, False]})"
      ]
     },
     "execution_count": 313,
     "metadata": {},
     "output_type": "execute_result"
    }
   ],
   "source": [
    "gscv_mnb = GridSearchCV(pipe_mnnb, param_grid,cv=5,n_jobs=-1)\n",
    "gscv_mnb.fit(X_train, y_train)"
   ]
  },
  {
   "cell_type": "code",
   "execution_count": 314,
   "metadata": {},
   "outputs": [
    {
     "data": {
      "text/plain": [
       "0.8181818181818182"
      ]
     },
     "execution_count": 314,
     "metadata": {},
     "output_type": "execute_result"
    }
   ],
   "source": [
    "y_pred = gs_mnnb.predict(X_test)\n",
    "gscv_mnb.score(X_test, y_test)"
   ]
  },
  {
   "cell_type": "code",
   "execution_count": 315,
   "metadata": {},
   "outputs": [
    {
     "data": {
      "text/plain": [
       "{'mnb__alpha': 0.1,\n",
       " 'tf__max_features': 1000,\n",
       " 'tf__ngram_range': (1, 1),\n",
       " 'tf__stop_words': 'english',\n",
       " 'tf__use_idf': False}"
      ]
     },
     "execution_count": 315,
     "metadata": {},
     "output_type": "execute_result"
    }
   ],
   "source": [
    "gscv_mnb.best_params_"
   ]
  },
  {
   "cell_type": "code",
   "execution_count": 316,
   "metadata": {},
   "outputs": [
    {
     "data": {
      "text/plain": [
       "array([[ 0,  2,  0,  0,  1],\n",
       "       [ 0,  3,  0,  0,  0],\n",
       "       [ 0,  0,  0,  1,  2],\n",
       "       [ 0,  0,  0,  5,  2],\n",
       "       [ 0,  0,  0,  0, 28]], dtype=int64)"
      ]
     },
     "execution_count": 316,
     "metadata": {},
     "output_type": "execute_result"
    }
   ],
   "source": [
    "metrics.confusion_matrix(y_test, y_pred)"
   ]
  },
  {
   "cell_type": "markdown",
   "metadata": {},
   "source": [
    "# Geegees Post Classification"
   ]
  },
  {
   "cell_type": "code",
   "execution_count": null,
   "metadata": {},
   "outputs": [],
   "source": []
  }
 ],
 "metadata": {
  "kernelspec": {
   "display_name": "Python 3",
   "language": "python",
   "name": "python3"
  },
  "language_info": {
   "codemirror_mode": {
    "name": "ipython",
    "version": 3
   },
   "file_extension": ".py",
   "mimetype": "text/x-python",
   "name": "python",
   "nbconvert_exporter": "python",
   "pygments_lexer": "ipython3",
   "version": "3.8.5"
  }
 },
 "nbformat": 4,
 "nbformat_minor": 4
}
