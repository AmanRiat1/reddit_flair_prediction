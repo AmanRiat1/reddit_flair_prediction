{
 "cells": [
  {
   "cell_type": "code",
   "execution_count": 20,
   "metadata": {},
   "outputs": [],
   "source": [
    "import requests\n",
    "import praw\n",
    "import datetime\n",
    "from dateutil.relativedelta import relativedelta\n",
    "import concurrent.futures\n",
    "import pandas as pd"
   ]
  },
  {
   "cell_type": "markdown",
   "metadata": {},
   "source": [
    "## Data Collection"
   ]
  },
  {
   "cell_type": "code",
   "execution_count": 21,
   "metadata": {},
   "outputs": [],
   "source": [
    "reddit = praw.Reddit(\"bot1\")"
   ]
  },
  {
   "cell_type": "code",
   "execution_count": 32,
   "metadata": {},
   "outputs": [],
   "source": [
    "def get_post_data_for_range(start_date, end_date):\n",
    "    query = f'https://api.pushshift.io/reddit/search/submission/?subreddit=gadgets&size=500&before={end_date}&after={start_date}'\n",
    "    post_data = requests.get(query)\n",
    "    return post_data.json()['data']\n",
    "    \n",
    "def filter_submission(total_submission_dict, post):\n",
    "    submission = reddit.submission(id=post['id'])\n",
    "    if (submission.link_flair_text is not None):\n",
    "        total_submission_dict['date'].append(post['created_utc'])\n",
    "        total_submission_dict['id'].append(post['id'])\n",
    "        total_submission_dict['flair'].append(submission.link_flair_text)\n",
    "        total_submission_dict['title'].append(post['title'])\n",
    "        total_submission_dict['selftext'].append(post['selftext'])\n",
    "\n",
    "def get_post_data(start_date, end_date):\n",
    "    total_submission_dict = {\n",
    "        'date': [], \n",
    "        'id': [],\n",
    "        'flair': [],\n",
    "        'title': [],\n",
    "        'selftext': []\n",
    "    }\n",
    "    \n",
    "    post_data = get_post_data_for_range(start_date, end_date)\n",
    "    for x in range (5):\n",
    "        for submission in post_data:\n",
    "            filter_submission(total_submission_dict, submission)\n",
    "\n",
    "        start_date = post_data[-1]['created_utc']\n",
    "        post_data = get_post_data_for_range(start_date, end_date)\n",
    "    return total_submission_dict\n",
    "    "
   ]
  },
  {
   "cell_type": "code",
   "execution_count": 41,
   "metadata": {},
   "outputs": [],
   "source": [
    "#Not functional due to \n",
    "start_date = ((datetime.datetime.utcnow() - relativedelta(years=1)))\n",
    "dates = [int((start_date + relativedelta(months=x)).timestamp()) for x in range(12)]\n",
    "with concurrent.futures.ThreadPoolExecutor() as executor:\n",
    "    threads= [executor.submit(get_post_data, dates[month], dates[month+1]) for month in range(0,len(dates),2)]\n",
    "    post_data_per_month = [thread.result() for thread in threads]"
   ]
  },
  {
   "cell_type": "code",
   "execution_count": 33,
   "metadata": {},
   "outputs": [],
   "source": [
    "start_date = ((datetime.datetime.utcnow() - relativedelta(days=15))).timestamp()\n",
    "end_date = datetime.datetime.utcnow().timestamp()\n",
    "last_15_days_data = get_post_data(1604881881, 1606100329)"
   ]
  },
  {
   "cell_type": "code",
   "execution_count": 43,
   "metadata": {},
   "outputs": [
    {
     "data": {
      "text/plain": [
       "VR / AR                 97\n",
       "Phones                  30\n",
       "Desktops / Laptops      23\n",
       "Computer peripherals    14\n",
       "Transportation          11\n",
       "Wearables               11\n",
       "Medical                 11\n",
       "Home                    10\n",
       "Gaming                  10\n",
       "Discussion               9\n",
       "Music                    7\n",
       "Watches                  6\n",
       "Rule 2                   5\n",
       "TV / Projectors          5\n",
       "Misc                     4\n",
       "Cameras                  4\n",
       "Homemade                 3\n",
       "Phone Accessories        2\n",
       "Not A Gadget             2\n",
       "Blogspam                 1\n",
       "Drones / UAVs            1\n",
       "Tablets                  1\n",
       "locked                   1\n",
       "*SMS-based               1\n",
       "Rule 5                   1\n",
       "Name: flair, dtype: int64"
      ]
     },
     "execution_count": 43,
     "metadata": {},
     "output_type": "execute_result"
    }
   ],
   "source": [
    "df = pd.DataFrame(last_15_days_data)\n",
    "df.to_csv('gadges_posts.csv')\n",
    "df['flair'].value_counts()"
   ]
  },
  {
   "cell_type": "code",
   "execution_count": null,
   "metadata": {},
   "outputs": [],
   "source": []
  }
 ],
 "metadata": {
  "kernelspec": {
   "display_name": "Python 3",
   "language": "python",
   "name": "python3"
  },
  "language_info": {
   "codemirror_mode": {
    "name": "ipython",
    "version": 3
   },
   "file_extension": ".py",
   "mimetype": "text/x-python",
   "name": "python",
   "nbconvert_exporter": "python",
   "pygments_lexer": "ipython3",
   "version": "3.8.3"
  }
 },
 "nbformat": 4,
 "nbformat_minor": 4
}
