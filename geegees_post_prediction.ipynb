{
 "cells": [
  {
   "cell_type": "code",
   "execution_count": 1,
   "metadata": {},
   "outputs": [],
   "source": [
    "import requests"
   ]
  },
  {
   "cell_type": "markdown",
   "metadata": {},
   "source": [
    "## Data Collection"
   ]
  },
  {
   "cell_type": "code",
   "execution_count": 4,
   "metadata": {},
   "outputs": [],
   "source": [
    "subreddit = 'https://api.pushshift.io/reddit/search/submission/?subreddit=geegees'\n",
    "post_data = requests.get(subreddit)"
   ]
  },
  {
   "cell_type": "code",
   "execution_count": 8,
   "metadata": {},
   "outputs": [
    {
     "data": {
      "text/plain": [
       "{'all_awardings': [],\n",
       " 'allow_live_comments': False,\n",
       " 'author': 'Slippuree',\n",
       " 'author_flair_css_class': 'phys',\n",
       " 'author_flair_richtext': [{'e': 'text', 't': 'Physics'}],\n",
       " 'author_flair_template_id': 'f73409d8-2ae6-11e9-bfdc-0e42cc90da4c',\n",
       " 'author_flair_text': 'Physics',\n",
       " 'author_flair_text_color': 'dark',\n",
       " 'author_flair_type': 'richtext',\n",
       " 'author_fullname': 't2_xv3o2',\n",
       " 'author_patreon_flair': False,\n",
       " 'author_premium': False,\n",
       " 'awarders': [],\n",
       " 'can_mod_post': False,\n",
       " 'contest_mode': False,\n",
       " 'created_utc': 1604269813,\n",
       " 'domain': 'self.geegees',\n",
       " 'full_link': 'https://www.reddit.com/r/geegees/comments/jmbj59/looking_for_laptop_recommendations/',\n",
       " 'gildings': {},\n",
       " 'id': 'jmbj59',\n",
       " 'is_crosspostable': True,\n",
       " 'is_meta': False,\n",
       " 'is_original_content': False,\n",
       " 'is_reddit_media_domain': False,\n",
       " 'is_robot_indexable': True,\n",
       " 'is_self': True,\n",
       " 'is_video': False,\n",
       " 'link_flair_background_color': '',\n",
       " 'link_flair_richtext': [],\n",
       " 'link_flair_text_color': 'dark',\n",
       " 'link_flair_type': 'text',\n",
       " 'locked': False,\n",
       " 'media_only': False,\n",
       " 'no_follow': True,\n",
       " 'num_comments': 2,\n",
       " 'num_crossposts': 0,\n",
       " 'over_18': False,\n",
       " 'parent_whitelist_status': 'all_ads',\n",
       " 'permalink': '/r/geegees/comments/jmbj59/looking_for_laptop_recommendations/',\n",
       " 'pinned': False,\n",
       " 'pwls': 6,\n",
       " 'retrieved_on': 1604269824,\n",
       " 'score': 1,\n",
       " 'selftext': \"I'm a 2nd year physics student looking for recommendations for a new laptop used primarily for school. I have a 2016 Macbook Air currently and love it. I'm looking to get a new computer sometime in the next few months and wondered if anyone has anything to recommend. I used to run windows and am used to the OS, but also like the Apple OS. If I were to stay with a Mac, would anyone recommend the Pro over the Air for any specific reasons? Otherwise, what are some windows laptops that fit the highly portable and durable baseline but that are also strong enough to run some engineering and design programs? \\n\\nWe'll assume no budget currently as I am trying to get a general basis before I look any harder.\\n\\nTIA\",\n",
       " 'send_replies': True,\n",
       " 'spoiler': False,\n",
       " 'stickied': False,\n",
       " 'subreddit': 'geegees',\n",
       " 'subreddit_id': 't5_2st6x',\n",
       " 'subreddit_subscribers': 16061,\n",
       " 'subreddit_type': 'public',\n",
       " 'thumbnail': 'self',\n",
       " 'title': 'Looking for laptop recommendations',\n",
       " 'total_awards_received': 0,\n",
       " 'treatment_tags': [],\n",
       " 'upvote_ratio': 1.0,\n",
       " 'url': 'https://www.reddit.com/r/geegees/comments/jmbj59/looking_for_laptop_recommendations/',\n",
       " 'whitelist_status': 'all_ads',\n",
       " 'wls': 6}"
      ]
     },
     "execution_count": 8,
     "metadata": {},
     "output_type": "execute_result"
    }
   ],
   "source": [
    "post_data.json()['data'][0]"
   ]
  },
  {
   "cell_type": "code",
   "execution_count": null,
   "metadata": {},
   "outputs": [],
   "source": []
  }
 ],
 "metadata": {
  "kernelspec": {
   "display_name": "Python 3",
   "language": "python",
   "name": "python3"
  },
  "language_info": {
   "codemirror_mode": {
    "name": "ipython",
    "version": 3
   },
   "file_extension": ".py",
   "mimetype": "text/x-python",
   "name": "python",
   "nbconvert_exporter": "python",
   "pygments_lexer": "ipython3",
   "version": "3.8.3"
  }
 },
 "nbformat": 4,
 "nbformat_minor": 4
}
