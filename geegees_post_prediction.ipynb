{
 "cells": [
  {
   "cell_type": "code",
   "execution_count": 1,
   "metadata": {},
   "outputs": [],
   "source": [
    "import requests\n",
    "import praw\n",
    "import datetime\n",
    "from dateutil.relativedelta import relativedelta\n",
    "import concurrent.futures\n",
    "import pandas as pd"
   ]
  },
  {
   "cell_type": "markdown",
   "metadata": {},
   "source": [
    "## Data Collection"
   ]
  },
  {
   "cell_type": "code",
   "execution_count": 2,
   "metadata": {},
   "outputs": [],
   "source": [
    "reddit = praw.Reddit(\"bot1\")"
   ]
  },
  {
   "cell_type": "code",
   "execution_count": 25,
   "metadata": {},
   "outputs": [],
   "source": [
    "def get_post_data_for_range(start_date, end_date):\n",
    "    query = f'https://api.pushshift.io/reddit/search/submission/?subreddit=soccer&size=500&before={end_date}&after={start_date}'\n",
    "    post_data = requests.get(query)\n",
    "    return post_data.json()['data']\n",
    "    \n",
    "def filter_submission(total_submission_dict, post):\n",
    "    submission = reddit.submission(id=post['id'])\n",
    "    if (submission.link_flair_text is not None):\n",
    "        total_submission_dict['date'].append(post['created_utc'])\n",
    "        total_submission_dict['id'].append(post['id'])\n",
    "        total_submission_dict['flair'].append(submission.link_flair_text)\n",
    "        total_submission_dict['title'].append(post['title'])\n",
    "        total_submission_dict['selftext'].append(post['selftext'])\n",
    "\n",
    "def get_post_data(start_date, end_date):\n",
    "    total_submission_dict = {\n",
    "        'date': [], \n",
    "        'id': [],\n",
    "        'flair': [],\n",
    "        'title': [],\n",
    "        'selftext': []\n",
    "    }\n",
    "    \n",
    "    post_data = get_post_data_for_range(start_date, end_date)\n",
    "    while len(post_data) > 0:\n",
    "        for submission in post_data:\n",
    "            filter_submission(total_submission_dict, submission)\n",
    "\n",
    "        start_date = post_data[-1]['created_utc']\n",
    "        post_data = get_post_data_for_range(start_date, end_date)\n",
    "    return total_submission_dict\n",
    "    "
   ]
  },
  {
   "cell_type": "code",
   "execution_count": null,
   "metadata": {},
   "outputs": [],
   "source": [
    "start_date = ((datetime.datetime.utcnow() - relativedelta(years=1)))\n",
    "dates = [int((start_date + relativedelta(months=x)).timestamp()) for x in range(12)]\n",
    "with concurrent.futures.ThreadPoolExecutor() as executor:\n",
    "    threads= [executor.submit(get_post_data, dates[month], dates[month+1]) for month in range(0,len(dates),2)]\n",
    "    post_data_per_month = [thread.result() for thread in threads]"
   ]
  },
  {
   "cell_type": "code",
   "execution_count": null,
   "metadata": {},
   "outputs": [],
   "source": []
  }
 ],
 "metadata": {
  "kernelspec": {
   "display_name": "Python 3",
   "language": "python",
   "name": "python3"
  },
  "language_info": {
   "codemirror_mode": {
    "name": "ipython",
    "version": 3
   },
   "file_extension": ".py",
   "mimetype": "text/x-python",
   "name": "python",
   "nbconvert_exporter": "python",
   "pygments_lexer": "ipython3",
   "version": "3.8.5"
  }
 },
 "nbformat": 4,
 "nbformat_minor": 4
}
